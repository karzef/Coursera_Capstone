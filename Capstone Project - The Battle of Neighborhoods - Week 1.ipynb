{
 "cells": [
  {
   "cell_type": "markdown",
   "metadata": {},
   "source": [
    "## Business Question"
   ]
  },
  {
   "cell_type": "markdown",
   "metadata": {},
   "source": [
    "I have recently discussed with investors the idea of designing and creating a new website which will allow to compare eateries between two major cities. We will be using New York and Toronto as pilot. The main idea of this website would be to score each city on several factors and compare how similar or dissimilar eateries are between them. Eateries would include Restaurant, cafe and Bars.  \n",
    "Similarity between the 2 cities will be analyze by measuring the following range factor: diversity (style, origin), accessibility (distance to transport ) ,cost , quality (rating) and density (population/eateries)\n",
    "\n",
    "\n",
    "\n"
   ]
  },
  {
   "cell_type": "markdown",
   "metadata": {},
   "source": [
    "## Data "
   ]
  },
  {
   "cell_type": "markdown",
   "metadata": {},
   "source": [
    "We will need the following data to answer the business questions.\n",
    "1. Eateries Name, addresses and associated coordinates will be extracted from  https://foursquare.com \n",
    "2. Eateries style, origin (diversity), cost and quality (rating) will also be extracted from  https://foursquare.com \n",
    "3. Accessibility (transportation coordinates  ) will be extracted from https://data.ny.gov/widgets/i9wp-a4ja for New York and  http://scruss.com/blog/2005/12/14/toronto-subway-station-gps-locations/ for Toronto.\n",
    "4. Finally for density  we will extract borough density from https://en.wikipedia.org/wiki/Demographics_of_New_York_City for New York and https://en.wikipedia.org/wiki/Greater_Toronto_Area for Toronto.\n"
   ]
  },
  {
   "cell_type": "code",
   "execution_count": null,
   "metadata": {},
   "outputs": [],
   "source": []
  }
 ],
 "metadata": {
  "kernelspec": {
   "display_name": "Python 3",
   "language": "python",
   "name": "python3"
  },
  "language_info": {
   "codemirror_mode": {
    "name": "ipython",
    "version": 3
   },
   "file_extension": ".py",
   "mimetype": "text/x-python",
   "name": "python",
   "nbconvert_exporter": "python",
   "pygments_lexer": "ipython3",
   "version": "3.7.1"
  }
 },
 "nbformat": 4,
 "nbformat_minor": 2
}
